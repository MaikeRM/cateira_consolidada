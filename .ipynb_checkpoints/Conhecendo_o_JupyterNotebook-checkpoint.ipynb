{
 "cells": [
  {
   "cell_type": "markdown",
   "id": "7bc55f08",
   "metadata": {},
   "source": [
    "# <center>Conhecendo o JupyterNotebook<center>\n",
    "<img src=\"figuras/jupyter_rodando.gif\" width=\"600\" height=\"300\">"
   ]
  },
  {
   "cell_type": "markdown",
   "id": "150f514d",
   "metadata": {},
   "source": [
    "# Contas básicas"
   ]
  },
  {
   "cell_type": "code",
   "execution_count": null,
   "id": "f8f3decb",
   "metadata": {},
   "outputs": [],
   "source": []
  }
 ],
 "metadata": {
  "kernelspec": {
   "display_name": "Python 3",
   "language": "python",
   "name": "python3"
  },
  "language_info": {
   "codemirror_mode": {
    "name": "ipython",
    "version": 3
   },
   "file_extension": ".py",
   "mimetype": "text/x-python",
   "name": "python",
   "nbconvert_exporter": "python",
   "pygments_lexer": "ipython3",
   "version": "3.7.1"
  }
 },
 "nbformat": 4,
 "nbformat_minor": 5
}
