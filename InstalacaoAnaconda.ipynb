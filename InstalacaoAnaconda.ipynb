{
 "cells": [
  {
   "cell_type": "markdown",
   "id": "7bc55f08",
   "metadata": {},
   "source": [
    "<img src=\"figuras/jupyter_anaconda.jpg\" width=\"600\" height=\"300\">"
   ]
  },
  {
   "cell_type": "markdown",
   "id": "7e3f56e2",
   "metadata": {},
   "source": [
    "# <center>Para instalar o Anaconda e o JupyterNotebook<center>"
   ]
  },
  {
   "cell_type": "markdown",
   "id": "1c13cf14",
   "metadata": {},
   "source": [
    "Acesse\n",
    "\n",
    "https://www.anaconda.com/\n",
    "Products --> Individual Edition\n",
    "\n",
    "Verificar se seu computador é é 32 ou 64:\n",
    "Painel de Controle --> Sistema e Segurança --> Sistema\n",
    "\n",
    "Verificar se instalou:\n",
    "Digita prompt na barra de pesquisa --> aparecerá prompt Anaconda\n",
    "Ou abrir o Jupyter\n",
    "\n",
    "Se não aparecer, reinicie o computador\n",
    "\n",
    "Se não aparecer, desinstala o anaconda e instala novamente, marcando a opção todos os usuários"
   ]
  }
 ],
 "metadata": {
  "kernelspec": {
   "display_name": "Python 3",
   "language": "python",
   "name": "python3"
  },
  "language_info": {
   "codemirror_mode": {
    "name": "ipython",
    "version": 3
   },
   "file_extension": ".py",
   "mimetype": "text/x-python",
   "name": "python",
   "nbconvert_exporter": "python",
   "pygments_lexer": "ipython3",
   "version": "3.7.1"
  }
 },
 "nbformat": 4,
 "nbformat_minor": 5
}
