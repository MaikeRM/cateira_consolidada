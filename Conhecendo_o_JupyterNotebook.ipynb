{
 "cells": [
  {
   "cell_type": "markdown",
   "id": "7bc55f08",
   "metadata": {},
   "source": [
    "# <center>JupyterNotebook<center>\n",
    "<img src=\"figuras/jupyter_rodando.gif\" width=\"600\" height=\"300\">"
   ]
  },
  {
   "cell_type": "markdown",
   "id": "1a1e841e",
   "metadata": {},
   "source": [
    "# Breve introdução sobre o JupyterNotebook\n",
    "\n",
    "- O **JupyterNotebook** é um documento virtual que permite a execução de códigos de uma linguagem de programação juntamente com ferramentas para edição de textos comuns.\n",
    "- Além das rotinas usuais de programação, o usuário pode documentar todo o processo de produção do código.\n",
    "\n",
    "- Dessa forma, o notebook permite uma *maneira interativa* de `programar`."
   ]
  },
  {
   "cell_type": "markdown",
   "id": "4cf5ae97",
   "metadata": {},
   "source": [
    "# Conhecendo o JupyterNotebook\n",
    "- Code\n",
    "- Markdown\n",
    "- Cell\n",
    "- Kernel\n",
    "- Download\n",
    "- Latex"
   ]
  },
  {
   "cell_type": "markdown",
   "id": "5d972260",
   "metadata": {},
   "source": [
    "# A biblioteca Numpy"
   ]
  },
  {
   "cell_type": "code",
   "execution_count": 1,
   "id": "c11b92b7",
   "metadata": {},
   "outputs": [],
   "source": [
    "import numpy as np"
   ]
  },
  {
   "cell_type": "code",
   "execution_count": null,
   "id": "16be8761",
   "metadata": {},
   "outputs": [],
   "source": []
  },
  {
   "cell_type": "code",
   "execution_count": 2,
   "id": "89c98cc3",
   "metadata": {},
   "outputs": [],
   "source": [
    "a = np.array([[0,1,2],[3,4,5]])"
   ]
  },
  {
   "cell_type": "code",
   "execution_count": 5,
   "id": "e460cfe2",
   "metadata": {},
   "outputs": [
    {
     "name": "stdout",
     "output_type": "stream",
     "text": [
      "[[0 1 2]\n",
      " [3 4 5]]\n"
     ]
    },
    {
     "data": {
      "text/plain": [
       "(2, 3)"
      ]
     },
     "execution_count": 5,
     "metadata": {},
     "output_type": "execute_result"
    }
   ],
   "source": [
    "print(a)\n",
    "a.shape"
   ]
  },
  {
   "cell_type": "code",
   "execution_count": 8,
   "id": "863e331e",
   "metadata": {},
   "outputs": [
    {
     "data": {
      "text/plain": [
       "array([0, 1, 2, 3, 4, 5, 6, 7, 8])"
      ]
     },
     "execution_count": 8,
     "metadata": {},
     "output_type": "execute_result"
    }
   ],
   "source": [
    "c = np.arange(0,9)"
   ]
  },
  {
   "cell_type": "code",
   "execution_count": 12,
   "id": "f24637e2",
   "metadata": {},
   "outputs": [],
   "source": [
    "d = np.arange(0,9,2)"
   ]
  },
  {
   "cell_type": "code",
   "execution_count": 16,
   "id": "dcc13eb0",
   "metadata": {},
   "outputs": [],
   "source": [
    "from random import random"
   ]
  },
  {
   "cell_type": "code",
   "execution_count": 13,
   "id": "0fc779f8",
   "metadata": {},
   "outputs": [],
   "source": [
    "lista_para_escolha = np.arange(20)"
   ]
  },
  {
   "cell_type": "code",
   "execution_count": 14,
   "id": "48a06b86",
   "metadata": {},
   "outputs": [
    {
     "data": {
      "text/plain": [
       "array([ 0,  1,  2,  3,  4,  5,  6,  7,  8,  9, 10, 11, 12, 13, 14, 15, 16,\n",
       "       17, 18, 19])"
      ]
     },
     "execution_count": 14,
     "metadata": {},
     "output_type": "execute_result"
    }
   ],
   "source": [
    "lista_para_escolha"
   ]
  },
  {
   "cell_type": "code",
   "execution_count": 15,
   "id": "d438100e",
   "metadata": {},
   "outputs": [],
   "source": [
    "quantidade_para_escolha = 5"
   ]
  },
  {
   "cell_type": "code",
   "execution_count": 29,
   "id": "204dd28d",
   "metadata": {},
   "outputs": [],
   "source": [
    "lista_de_escolhidos = np.random.choice(lista_para_escolha,  quantidade_para_escolha,replace=False)"
   ]
  },
  {
   "cell_type": "code",
   "execution_count": 30,
   "id": "6dd1fa2b",
   "metadata": {},
   "outputs": [
    {
     "data": {
      "text/plain": [
       "array([ 1,  0,  9, 19, 12])"
      ]
     },
     "execution_count": 30,
     "metadata": {},
     "output_type": "execute_result"
    }
   ],
   "source": [
    "lista_de_escolhidos"
   ]
  },
  {
   "cell_type": "markdown",
   "id": "9635ecbf",
   "metadata": {},
   "source": [
    "# A biblioteca Pandas"
   ]
  },
  {
   "cell_type": "code",
   "execution_count": 35,
   "id": "d9e9e4d5",
   "metadata": {},
   "outputs": [],
   "source": [
    "import pandas as pd"
   ]
  },
  {
   "cell_type": "markdown",
   "id": "6d98316a",
   "metadata": {},
   "source": [
    "Vamos simular 100.000 lançamentos de dois dados:"
   ]
  },
  {
   "cell_type": "code",
   "execution_count": 50,
   "id": "a058ca8d",
   "metadata": {},
   "outputs": [],
   "source": [
    "resultados = {'resultado_1': np.random.randint(1,7,1000000),\n",
    "              'resultado_2': np.random.randint(1,7,1000000)}"
   ]
  },
  {
   "cell_type": "code",
   "execution_count": 51,
   "id": "29fbc588",
   "metadata": {},
   "outputs": [],
   "source": [
    "df_resultado = pd.DataFrame(resultados)"
   ]
  },
  {
   "cell_type": "code",
   "execution_count": 52,
   "id": "4fb0b0be",
   "metadata": {},
   "outputs": [
    {
     "data": {
      "text/html": [
       "<div>\n",
       "<style scoped>\n",
       "    .dataframe tbody tr th:only-of-type {\n",
       "        vertical-align: middle;\n",
       "    }\n",
       "\n",
       "    .dataframe tbody tr th {\n",
       "        vertical-align: top;\n",
       "    }\n",
       "\n",
       "    .dataframe thead th {\n",
       "        text-align: right;\n",
       "    }\n",
       "</style>\n",
       "<table border=\"1\" class=\"dataframe\">\n",
       "  <thead>\n",
       "    <tr style=\"text-align: right;\">\n",
       "      <th></th>\n",
       "      <th>resultado_1</th>\n",
       "      <th>resultado_2</th>\n",
       "    </tr>\n",
       "  </thead>\n",
       "  <tbody>\n",
       "    <tr>\n",
       "      <th>0</th>\n",
       "      <td>5</td>\n",
       "      <td>6</td>\n",
       "    </tr>\n",
       "    <tr>\n",
       "      <th>1</th>\n",
       "      <td>1</td>\n",
       "      <td>4</td>\n",
       "    </tr>\n",
       "    <tr>\n",
       "      <th>2</th>\n",
       "      <td>4</td>\n",
       "      <td>1</td>\n",
       "    </tr>\n",
       "    <tr>\n",
       "      <th>3</th>\n",
       "      <td>6</td>\n",
       "      <td>5</td>\n",
       "    </tr>\n",
       "    <tr>\n",
       "      <th>4</th>\n",
       "      <td>4</td>\n",
       "      <td>6</td>\n",
       "    </tr>\n",
       "    <tr>\n",
       "      <th>...</th>\n",
       "      <td>...</td>\n",
       "      <td>...</td>\n",
       "    </tr>\n",
       "    <tr>\n",
       "      <th>999995</th>\n",
       "      <td>4</td>\n",
       "      <td>5</td>\n",
       "    </tr>\n",
       "    <tr>\n",
       "      <th>999996</th>\n",
       "      <td>3</td>\n",
       "      <td>5</td>\n",
       "    </tr>\n",
       "    <tr>\n",
       "      <th>999997</th>\n",
       "      <td>6</td>\n",
       "      <td>4</td>\n",
       "    </tr>\n",
       "    <tr>\n",
       "      <th>999998</th>\n",
       "      <td>1</td>\n",
       "      <td>6</td>\n",
       "    </tr>\n",
       "    <tr>\n",
       "      <th>999999</th>\n",
       "      <td>4</td>\n",
       "      <td>3</td>\n",
       "    </tr>\n",
       "  </tbody>\n",
       "</table>\n",
       "<p>1000000 rows × 2 columns</p>\n",
       "</div>"
      ],
      "text/plain": [
       "        resultado_1  resultado_2\n",
       "0                 5            6\n",
       "1                 1            4\n",
       "2                 4            1\n",
       "3                 6            5\n",
       "4                 4            6\n",
       "...             ...          ...\n",
       "999995            4            5\n",
       "999996            3            5\n",
       "999997            6            4\n",
       "999998            1            6\n",
       "999999            4            3\n",
       "\n",
       "[1000000 rows x 2 columns]"
      ]
     },
     "execution_count": 52,
     "metadata": {},
     "output_type": "execute_result"
    }
   ],
   "source": [
    "df_resultado"
   ]
  },
  {
   "cell_type": "code",
   "execution_count": 53,
   "id": "803cf323",
   "metadata": {},
   "outputs": [],
   "source": [
    "df_resultado['soma_resultados'] = df_resultado.resultado_1+df_resultado.resultado_2"
   ]
  },
  {
   "cell_type": "code",
   "execution_count": 54,
   "id": "be51dafe",
   "metadata": {},
   "outputs": [
    {
     "data": {
      "text/html": [
       "<div>\n",
       "<style scoped>\n",
       "    .dataframe tbody tr th:only-of-type {\n",
       "        vertical-align: middle;\n",
       "    }\n",
       "\n",
       "    .dataframe tbody tr th {\n",
       "        vertical-align: top;\n",
       "    }\n",
       "\n",
       "    .dataframe thead th {\n",
       "        text-align: right;\n",
       "    }\n",
       "</style>\n",
       "<table border=\"1\" class=\"dataframe\">\n",
       "  <thead>\n",
       "    <tr style=\"text-align: right;\">\n",
       "      <th></th>\n",
       "      <th>resultado_1</th>\n",
       "      <th>resultado_2</th>\n",
       "      <th>soma_resultados</th>\n",
       "    </tr>\n",
       "  </thead>\n",
       "  <tbody>\n",
       "    <tr>\n",
       "      <th>0</th>\n",
       "      <td>5</td>\n",
       "      <td>6</td>\n",
       "      <td>11</td>\n",
       "    </tr>\n",
       "    <tr>\n",
       "      <th>1</th>\n",
       "      <td>1</td>\n",
       "      <td>4</td>\n",
       "      <td>5</td>\n",
       "    </tr>\n",
       "    <tr>\n",
       "      <th>2</th>\n",
       "      <td>4</td>\n",
       "      <td>1</td>\n",
       "      <td>5</td>\n",
       "    </tr>\n",
       "    <tr>\n",
       "      <th>3</th>\n",
       "      <td>6</td>\n",
       "      <td>5</td>\n",
       "      <td>11</td>\n",
       "    </tr>\n",
       "    <tr>\n",
       "      <th>4</th>\n",
       "      <td>4</td>\n",
       "      <td>6</td>\n",
       "      <td>10</td>\n",
       "    </tr>\n",
       "    <tr>\n",
       "      <th>...</th>\n",
       "      <td>...</td>\n",
       "      <td>...</td>\n",
       "      <td>...</td>\n",
       "    </tr>\n",
       "    <tr>\n",
       "      <th>999995</th>\n",
       "      <td>4</td>\n",
       "      <td>5</td>\n",
       "      <td>9</td>\n",
       "    </tr>\n",
       "    <tr>\n",
       "      <th>999996</th>\n",
       "      <td>3</td>\n",
       "      <td>5</td>\n",
       "      <td>8</td>\n",
       "    </tr>\n",
       "    <tr>\n",
       "      <th>999997</th>\n",
       "      <td>6</td>\n",
       "      <td>4</td>\n",
       "      <td>10</td>\n",
       "    </tr>\n",
       "    <tr>\n",
       "      <th>999998</th>\n",
       "      <td>1</td>\n",
       "      <td>6</td>\n",
       "      <td>7</td>\n",
       "    </tr>\n",
       "    <tr>\n",
       "      <th>999999</th>\n",
       "      <td>4</td>\n",
       "      <td>3</td>\n",
       "      <td>7</td>\n",
       "    </tr>\n",
       "  </tbody>\n",
       "</table>\n",
       "<p>1000000 rows × 3 columns</p>\n",
       "</div>"
      ],
      "text/plain": [
       "        resultado_1  resultado_2  soma_resultados\n",
       "0                 5            6               11\n",
       "1                 1            4                5\n",
       "2                 4            1                5\n",
       "3                 6            5               11\n",
       "4                 4            6               10\n",
       "...             ...          ...              ...\n",
       "999995            4            5                9\n",
       "999996            3            5                8\n",
       "999997            6            4               10\n",
       "999998            1            6                7\n",
       "999999            4            3                7\n",
       "\n",
       "[1000000 rows x 3 columns]"
      ]
     },
     "execution_count": 54,
     "metadata": {},
     "output_type": "execute_result"
    }
   ],
   "source": [
    "df_resultado"
   ]
  },
  {
   "cell_type": "markdown",
   "id": "57573d3e",
   "metadata": {},
   "source": [
    "Podemos gerar visualização dos dados"
   ]
  },
  {
   "cell_type": "code",
   "execution_count": 55,
   "id": "c64d7d0a",
   "metadata": {},
   "outputs": [],
   "source": [
    "import matplotlib.pyplot as plt"
   ]
  },
  {
   "cell_type": "code",
   "execution_count": 59,
   "id": "93eb1776",
   "metadata": {},
   "outputs": [
    {
     "data": {
      "image/png": "[encoded data removed]",
      "text/plain": [
       "<Figure size 432x288 with 1 Axes>"
      ]
     },
     "metadata": {
      "needs_background": "light"
     },
     "output_type": "display_data"
    }
   ],
   "source": [
    "plt.hist(df_resultado.soma_resultados, bins=11)\n",
    "plt.xlabel('Soma')\n",
    "plt.ylabel('Quantidade de Lançamentos')\n",
    "plt.title('Soma dos resultados - lançamento de dados')\n",
    "plt.show()"
   ]
  },
  {
   "cell_type": "code",
   "execution_count": 63,
   "id": "508ddc8b",
   "metadata": {},
   "outputs": [
    {
     "data": {
      "text/plain": [
       "7     167202\n",
       "8     139472\n",
       "6     138599\n",
       "5     111418\n",
       "9     110475\n",
       "4      83348\n",
       "10     82835\n",
       "11     55689\n",
       "3      55303\n",
       "12     27989\n",
       "2      27670\n",
       "Name: soma_resultados, dtype: int64"
      ]
     },
     "execution_count": 63,
     "metadata": {},
     "output_type": "execute_result"
    }
   ],
   "source": [
    "df_resultado.soma_resultados.value_counts()"
   ]
  },
  {
   "cell_type": "code",
   "execution_count": 64,
   "id": "5539a283",
   "metadata": {},
   "outputs": [
    {
     "data": {
      "text/plain": [
       "resultado_1        3.500795\n",
       "resultado_2        3.499792\n",
       "soma_resultados    7.000587\n",
       "dtype: float64"
      ]
     },
     "execution_count": 64,
     "metadata": {},
     "output_type": "execute_result"
    }
   ],
   "source": [
    "df_resultado.mean()"
   ]
  },
  {
   "cell_type": "code",
   "execution_count": null,
   "id": "af4030fd",
   "metadata": {},
   "outputs": [],
   "source": []
  }
 ],
 "metadata": {
  "kernelspec": {
   "display_name": "Python 3",
   "language": "python",
   "name": "python3"
  },
  "language_info": {
   "codemirror_mode": {
    "name": "ipython",
    "version": 3
   },
   "file_extension": ".py",
   "mimetype": "text/x-python",
   "name": "python",
   "nbconvert_exporter": "python",
   "pygments_lexer": "ipython3",
   "version": "3.7.1"
  }
 },
 "nbformat": 4,
 "nbformat_minor": 5
}
