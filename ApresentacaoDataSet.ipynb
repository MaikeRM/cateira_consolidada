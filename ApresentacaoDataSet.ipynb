{
 "cells": [
  {
   "cell_type": "code",
   "execution_count": 1,
   "id": "f4bc5003",
   "metadata": {},
   "outputs": [],
   "source": [
    "import pandas as pd"
   ]
  },
  {
   "cell_type": "markdown",
   "id": "8b497920",
   "metadata": {},
   "source": [
    "# Quais tipos de investimentos serão considerados no nosso portfólio?\n",
    "\n",
    "- Renda variável (Ações e FIIs)"
   ]
  },
  {
   "cell_type": "code",
   "execution_count": 2,
   "id": "14ef1026",
   "metadata": {},
   "outputs": [],
   "source": [
    "# ler arquivo principal\n",
    "arquivo_investimentos = pd.read_excel(\"ativos_ok.xlsx\", sheet_name=['RendaVariavel'])"
   ]
  },
  {
   "cell_type": "markdown",
   "id": "302b3ecb",
   "metadata": {},
   "source": [
    "# Como organizar a base de dados:"
   ]
  },
  {
   "cell_type": "markdown",
   "id": "9129bc54",
   "metadata": {},
   "source": [
    "Informações que devem constar na planilha:\n",
    "\n",
    "- data\n",
    "- nome investimento\n",
    "- quantidade\n",
    "- valor\n",
    "- aporte"
   ]
  },
  {
   "cell_type": "markdown",
   "id": "d2ae4cc7",
   "metadata": {},
   "source": [
    "## Renda variável"
   ]
  },
  {
   "cell_type": "code",
   "execution_count": 3,
   "id": "cb1d0639",
   "metadata": {},
   "outputs": [
    {
     "data": {
      "text/html": [
       "<div>\n",
       "<style scoped>\n",
       "    .dataframe tbody tr th:only-of-type {\n",
       "        vertical-align: middle;\n",
       "    }\n",
       "\n",
       "    .dataframe tbody tr th {\n",
       "        vertical-align: top;\n",
       "    }\n",
       "\n",
       "    .dataframe thead th {\n",
       "        text-align: right;\n",
       "    }\n",
       "</style>\n",
       "<table border=\"1\" class=\"dataframe\">\n",
       "  <thead>\n",
       "    <tr style=\"text-align: right;\">\n",
       "      <th></th>\n",
       "      <th>data</th>\n",
       "      <th>nome investimento</th>\n",
       "      <th>quantidade original</th>\n",
       "      <th>valor original</th>\n",
       "      <th>aporte</th>\n",
       "      <th>quantidade</th>\n",
       "      <th>valor</th>\n",
       "    </tr>\n",
       "  </thead>\n",
       "  <tbody>\n",
       "    <tr>\n",
       "      <th>0</th>\n",
       "      <td>2019-01-22</td>\n",
       "      <td>ITSA4</td>\n",
       "      <td>100</td>\n",
       "      <td>12.72</td>\n",
       "      <td>1272.0</td>\n",
       "      <td>NaN</td>\n",
       "      <td>NaN</td>\n",
       "    </tr>\n",
       "    <tr>\n",
       "      <th>1</th>\n",
       "      <td>2019-05-13</td>\n",
       "      <td>ABEV3</td>\n",
       "      <td>55</td>\n",
       "      <td>17.00</td>\n",
       "      <td>935.0</td>\n",
       "      <td>NaN</td>\n",
       "      <td>NaN</td>\n",
       "    </tr>\n",
       "    <tr>\n",
       "      <th>2</th>\n",
       "      <td>2019-05-13</td>\n",
       "      <td>WEGE3</td>\n",
       "      <td>50</td>\n",
       "      <td>18.10</td>\n",
       "      <td>905.0</td>\n",
       "      <td>NaN</td>\n",
       "      <td>NaN</td>\n",
       "    </tr>\n",
       "    <tr>\n",
       "      <th>3</th>\n",
       "      <td>2019-05-13</td>\n",
       "      <td>EGIE3</td>\n",
       "      <td>20</td>\n",
       "      <td>42.43</td>\n",
       "      <td>848.6</td>\n",
       "      <td>NaN</td>\n",
       "      <td>NaN</td>\n",
       "    </tr>\n",
       "    <tr>\n",
       "      <th>4</th>\n",
       "      <td>2019-12-19</td>\n",
       "      <td>ABEV3</td>\n",
       "      <td>-55</td>\n",
       "      <td>19.06</td>\n",
       "      <td>-1048.3</td>\n",
       "      <td>NaN</td>\n",
       "      <td>NaN</td>\n",
       "    </tr>\n",
       "  </tbody>\n",
       "</table>\n",
       "</div>"
      ],
      "text/plain": [
       "        data nome investimento  quantidade original  valor original  aporte  \\\n",
       "0 2019-01-22             ITSA4                  100           12.72  1272.0   \n",
       "1 2019-05-13             ABEV3                   55           17.00   935.0   \n",
       "2 2019-05-13             WEGE3                   50           18.10   905.0   \n",
       "3 2019-05-13             EGIE3                   20           42.43   848.6   \n",
       "4 2019-12-19             ABEV3                  -55           19.06 -1048.3   \n",
       "\n",
       "   quantidade  valor  \n",
       "0         NaN    NaN  \n",
       "1         NaN    NaN  \n",
       "2         NaN    NaN  \n",
       "3         NaN    NaN  \n",
       "4         NaN    NaN  "
      ]
     },
     "execution_count": 3,
     "metadata": {},
     "output_type": "execute_result"
    }
   ],
   "source": [
    "arquivo_investimentos['RendaVariavel'].head()"
   ]
  },
  {
   "cell_type": "markdown",
   "id": "02c01b45",
   "metadata": {},
   "source": [
    "### Observações:\n",
    "\n",
    "- Alteração do TICKER: alterar manualmente\n",
    "- Para vendas, lance quantidade negativa"
   ]
  }
 ],
 "metadata": {
  "kernelspec": {
   "display_name": "Python 3",
   "language": "python",
   "name": "python3"
  },
  "language_info": {
   "codemirror_mode": {
    "name": "ipython",
    "version": 3
   },
   "file_extension": ".py",
   "mimetype": "text/x-python",
   "name": "python",
   "nbconvert_exporter": "python",
   "pygments_lexer": "ipython3",
   "version": "3.7.1"
  }
 },
 "nbformat": 4,
 "nbformat_minor": 5
}
